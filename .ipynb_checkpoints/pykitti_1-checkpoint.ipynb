{
 "cells": [
  {
   "cell_type": "code",
   "execution_count": 15,
   "metadata": {},
   "outputs": [],
   "source": [
    "# Lidar data source = http://www.cvlibs.net/datasets/kitti/\n",
    "# Lidar data Viz -- https://www.youtube.com/watch?v=AcU3fJJtr7Q\n",
    "# Raw Data == http://www.cvlibs.net/datasets/kitti/raw_data.php\n",
    "# Kitti on Kaggle = https://www.kaggle.com/c/3d-object-detection-for-autonomous-vehicles/discussion/109072\n",
    "# https://www.kaggle.com/stalkermustang/converting-lyft-dataset-to-kitty-format\n",
    "\n",
    "\n",
    "import pykitti\n"
   ]
  },
  {
   "cell_type": "code",
   "execution_count": 16,
   "metadata": {},
   "outputs": [
    {
     "name": "stdout",
     "output_type": "stream",
     "text": [
      "<class 'pykitti.raw.raw'>\n"
     ]
    }
   ],
   "source": [
    "# Using caliberated data == https://s3.eu-central-1.amazonaws.com/avg-kitti/raw_data/2011_09_26_calib.zip\n",
    "\n",
    "basedir = '/home/dhankar/_dc_all/lidar/lidar/'\n",
    "date = '2011_09_26'\n",
    "drive = '0001'\n",
    "\n",
    "dataset = pykitti.raw(basedir, date, drive)#, frame_range)\n",
    "print(type(dataset))\n",
    "\n"
   ]
  }
 ],
 "metadata": {
  "kernelspec": {
   "display_name": "Python 3",
   "language": "python",
   "name": "python3"
  },
  "language_info": {
   "codemirror_mode": {
    "name": "ipython",
    "version": 3
   },
   "file_extension": ".py",
   "mimetype": "text/x-python",
   "name": "python",
   "nbconvert_exporter": "python",
   "pygments_lexer": "ipython3",
   "version": "3.8.3"
  }
 },
 "nbformat": 4,
 "nbformat_minor": 4
}
